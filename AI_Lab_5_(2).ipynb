{
  "cells": [
    {
      "cell_type": "markdown",
      "metadata": {
        "id": "view-in-github",
        "colab_type": "text"
      },
      "source": [
        "<a href=\"https://colab.research.google.com/github/syedghazihaider/LAB-assaingment-/blob/main/AI_Lab_5_(2).ipynb\" target=\"_parent\"><img src=\"https://colab.research.google.com/assets/colab-badge.svg\" alt=\"Open In Colab\"/></a>"
      ]
    },
    {
      "cell_type": "markdown",
      "metadata": {
        "id": "DEtdCbF-AsMC"
      },
      "source": [
        "# Object Oriented Programming\n",
        "\n",
        "Object oriented programming introduction was discussed in previous lab.\n",
        "Now lets code 4 pillars of object oriented programming one by one\n"
      ]
    },
    {
      "cell_type": "markdown",
      "metadata": {
        "id": "exFYgOlgAsMP"
      },
      "source": [
        "## Inheritance"
      ]
    },
    {
      "cell_type": "code",
      "execution_count": null,
      "metadata": {
        "id": "YbSGOD4kAsMR",
        "outputId": "c9375ee7-e185-4532-f328-b574a1f8394f"
      },
      "outputs": [
        {
          "name": "stdout",
          "output_type": "stream",
          "text": [
            "Salman False\n",
            "Muneeb True\n"
          ]
        }
      ],
      "source": [
        "# A Python program to demonstrate\n",
        "# inheritance\n",
        "\n",
        "\n",
        "# Base class or Parent class\n",
        "class Child:\n",
        "\n",
        "    # Constructor\n",
        "    def __init__(self, name):\n",
        "        self.name = name\n",
        "\n",
        "    # To get name\n",
        "    def getName(self):\n",
        "        return self.name\n",
        "\n",
        "    # To check if this person is student\n",
        "    def isStudent(self):\n",
        "        return False\n",
        "\n",
        "# Derived class or Child class\n",
        "class Student(Child):\n",
        "\n",
        "    # True is returned\n",
        "    def isStudent(self):\n",
        "        return True\n",
        "\n",
        "\n",
        "# Driver code\n",
        "# An Object of Child\n",
        "std = Child(\"Salman\")\n",
        "print(std.getName(), std.isStudent())\n",
        "\n",
        "# An Object of Student\n",
        "std = Student(\"Muneeb\")\n",
        "print(std.getName(), std.isStudent())"
      ]
    },
    {
      "cell_type": "code",
      "execution_count": null,
      "metadata": {
        "id": "ZKjf5TzyAsMW",
        "outputId": "208681f1-ce0f-4d9a-da26-2f009dc9bb70"
      },
      "outputs": [
        {
          "data": {
            "image/png": "[encoded data removed]",
            "text/plain": [
              "<IPython.core.display.Image object>"
            ]
          },
          "execution_count": 2,
          "metadata": {},
          "output_type": "execute_result"
        }
      ],
      "source": [
        "from IPython import display\n",
        "display.Image(\"https://media.geeksforgeeks.org/wp-content/uploads/20200108135809/inheritance11.png\")"
      ]
    },
    {
      "cell_type": "code",
      "execution_count": null,
      "metadata": {
        "id": "wH9mnj_hAsMX",
        "outputId": "6344ccd2-dd7c-4cfa-c39d-ed3f3d7e793c"
      },
      "outputs": [
        {
          "name": "stdout",
          "output_type": "stream",
          "text": [
            "This function is in parent class.\n",
            "This function is in child class.\n"
          ]
        }
      ],
      "source": [
        "# Python program to demonstrate\n",
        "# single inheritance\n",
        "\n",
        "\n",
        "# Base class\n",
        "class Parent:\n",
        "     def func1(self):\n",
        "          print(\"This function is in parent class.\")\n",
        "\n",
        "# Derived class\n",
        "class Child(Parent):\n",
        "     def func2(self):\n",
        "          print(\"This function is in child class.\")\n",
        "\n",
        "# Driver's code\n",
        "obj = Child()\n",
        "obj.func1()\n",
        "obj.func2()"
      ]
    },
    {
      "cell_type": "code",
      "execution_count": null,
      "metadata": {
        "id": "eiZI-0IyAsMY",
        "outputId": "ab3544a8-6d44-4e03-c859-4227be9c6032"
      },
      "outputs": [
        {
          "data": {
            "image/png": "[encoded data removed]",
            "text/plain": [
              "<IPython.core.display.Image object>"
            ]
          },
          "execution_count": 4,
          "metadata": {},
          "output_type": "execute_result"
        }
      ],
      "source": [
        "from IPython import display\n",
        "display.Image(\"https://media.geeksforgeeks.org/wp-content/uploads/20200108144424/multiple-inheritance1.png\")"
      ]
    },
    {
      "cell_type": "code",
      "execution_count": null,
      "metadata": {
        "id": "ZPGmr2RlAsMa",
        "outputId": "ec512746-aea8-45e6-94e4-83ac087ed5ca"
      },
      "outputs": [
        {
          "name": "stdout",
          "output_type": "stream",
          "text": [
            "Father : Ali\n",
            "Mother : Saima\n"
          ]
        }
      ],
      "source": [
        "# Python program to demonstrate\n",
        "# multiple inheritance\n",
        "\n",
        "\n",
        "# Base class1\n",
        "class Mother:\n",
        "    mothername = \"\"\n",
        "    def mother(self):\n",
        "        print(self.mothername)\n",
        "\n",
        "# Base class2\n",
        "class Father:\n",
        "    fathername = \"\"\n",
        "    def father(self):\n",
        "        print(self.fathername)\n",
        "\n",
        "# Derived class\n",
        "class Son(Mother, Father):\n",
        "    def parents(self):\n",
        "        print(\"Father :\", self.fathername)\n",
        "        print(\"Mother :\", self.mothername)\n",
        "\n",
        "# Driver's code\n",
        "s1 = Son()\n",
        "s1.fathername = \"Ali\"\n",
        "s1.mothername = \"Saima\"\n",
        "s1.parents()"
      ]
    },
    {
      "cell_type": "code",
      "execution_count": null,
      "metadata": {
        "id": "De0O-p9LAsMh",
        "outputId": "67c388e8-669d-4016-a05f-2a811fc350f6"
      },
      "outputs": [
        {
          "data": {
            "image/png": "[encoded data removed]",
            "text/plain": [
              "<IPython.core.display.Image object>"
            ]
          },
          "execution_count": 9,
          "metadata": {},
          "output_type": "execute_result"
        }
      ],
      "source": [
        "from IPython import display\n",
        "display.Image(\"https://media.geeksforgeeks.org/wp-content/uploads/20200108144705/Multilevel-inheritance1.png\")"
      ]
    },
    {
      "cell_type": "code",
      "execution_count": null,
      "metadata": {
        "id": "qPTD_0-sAsMi",
        "outputId": "bc8fa62f-25e9-49fa-8dd5-d04d3d790b99"
      },
      "outputs": [
        {
          "name": "stdout",
          "output_type": "stream",
          "text": [
            "Baber\n",
            "Grandfather name : Baber\n",
            "Father name : Rameez\n",
            "Son name : Shamil\n"
          ]
        }
      ],
      "source": [
        "# Python program to demonstrate\n",
        "# multilevel inheritance\n",
        "\n",
        "# Base class\n",
        "class Grandfather:\n",
        "\n",
        "    def __init__(self, grandfathername):\n",
        "        self.grandfathername = grandfathername\n",
        "\n",
        "# Intermediate class\n",
        "class Father(Grandfather):\n",
        "    def __init__(self, fathername, grandfathername):\n",
        "        self.fathername = fathername\n",
        "\n",
        "        # invoking constructor of Grandfather class\n",
        "        Grandfather.__init__(self, grandfathername)\n",
        "\n",
        "# Derived class\n",
        "class Son(Father):\n",
        "    def __init__(self,sonname, fathername, grandfathername):\n",
        "        self.sonname = sonname\n",
        "\n",
        "        # invoking constructor of Father class\n",
        "        Father.__init__(self, fathername, grandfathername)\n",
        "\n",
        "    def print_name(self):\n",
        "        print('Grandfather name :', self.grandfathername)\n",
        "        print(\"Father name :\", self.fathername)\n",
        "        print(\"Son name :\", self.sonname)\n",
        "\n",
        "#  Driver code\n",
        "s1 = Son('Shamil', 'Rameez', 'Baber')\n",
        "print(s1.grandfathername)\n",
        "s1.print_name()"
      ]
    },
    {
      "cell_type": "code",
      "execution_count": null,
      "metadata": {
        "id": "h7fIYAzuAsMk",
        "outputId": "4f3b1d82-02f9-461b-f798-5da3f26549d1"
      },
      "outputs": [
        {
          "data": {
            "image/png": "[encoded data removed]",
            "text/plain": [
              "<IPython.core.display.Image object>"
            ]
          },
          "execution_count": 12,
          "metadata": {},
          "output_type": "execute_result"
        }
      ],
      "source": [
        "from IPython import display\n",
        "display.Image(\"https://media.geeksforgeeks.org/wp-content/uploads/20200108144949/Hierarchical-inheritance1.png\")"
      ]
    },
    {
      "cell_type": "code",
      "execution_count": null,
      "metadata": {
        "id": "H4_qu2ssAsMl",
        "outputId": "fb63c50e-8fac-467a-c355-3f57b6c819d7"
      },
      "outputs": [
        {
          "name": "stdout",
          "output_type": "stream",
          "text": [
            "This function is in parent class.\n",
            "This function is in child 1.\n",
            "This function is in parent class.\n",
            "This function is in child 2.\n"
          ]
        }
      ],
      "source": [
        "# Python program to demonstrate\n",
        "# Hierarchical inheritance\n",
        "\n",
        "\n",
        "# Base class\n",
        "class Parent:\n",
        "      def func1(self):\n",
        "          print(\"This function is in parent class.\")\n",
        "\n",
        "# Derived class1\n",
        "class Child1(Parent):\n",
        "      def func2(self):\n",
        "          print(\"This function is in child 1.\")\n",
        "\n",
        "# Derivied class2\n",
        "class Child2(Parent):\n",
        "      def func3(self):\n",
        "          print(\"This function is in child 2.\")\n",
        "\n",
        "\n",
        "#object of each child class can access parent functions and functions defined inside of that child class\n",
        "object1 = Child1()\n",
        "object2 = Child2()\n",
        "object1.func1()\n",
        "object1.func2()\n",
        "object2.func1()\n",
        "object2.func3()"
      ]
    },
    {
      "cell_type": "code",
      "execution_count": null,
      "metadata": {
        "id": "oa7h_1J0AsMm",
        "outputId": "12c9ad56-790b-44aa-a4ef-21c78772f753"
      },
      "outputs": [
        {
          "name": "stdout",
          "output_type": "stream",
          "text": [
            "This function is in school.\n",
            "This function is in student 1. \n"
          ]
        }
      ],
      "source": [
        "# Python program to demonstrate\n",
        "# hybrid inheritance\n",
        "\n",
        "\n",
        "class School:\n",
        "     def func1(self):\n",
        "         print(\"This function is in school.\")\n",
        "\n",
        "class Student1(School):\n",
        "     def func2(self):\n",
        "         print(\"This function is in student 1. \")\n",
        "\n",
        "class Student2(School):\n",
        "     def func3(self):\n",
        "         print(\"This function is in student 2.\")\n",
        "\n",
        "class Student3(Student1, School):\n",
        "     def func4(self):\n",
        "         print(\"This function is in student 3.\")\n",
        "\n",
        "# Driver's code\n",
        "object = Student3()\n",
        "object.func1()\n",
        "object.func2()"
      ]
    },
    {
      "cell_type": "markdown",
      "metadata": {
        "id": "eD-24GKIAsMn"
      },
      "source": [
        "## super() keyword in inheritance:\n",
        "\n",
        "Allows us to access data of base/parent class\n",
        "    "
      ]
    },
    {
      "cell_type": "code",
      "execution_count": null,
      "metadata": {
        "id": "1Xbe_FVlAsMn",
        "outputId": "0ba9edeb-76a2-422c-8246-718b9763a005"
      },
      "outputs": [
        {
          "name": "stdout",
          "output_type": "stream",
          "text": [
            "Dog has four legs.\n",
            "Dog is a warm-blooded animal.\n"
          ]
        }
      ],
      "source": [
        "# In this example, when we create object of child class Dog then constructor of child class will be called.\n",
        "# In constructor of child class, there is super keyword which will also execute constructor of parent class.\n",
        "\n",
        "class Mammal:\n",
        "  def __init__(self, mammalName):\n",
        "    print(mammalName, 'is a warm-blooded animal.')\n",
        "\n",
        "class Dog(Mammal):\n",
        "  def __init__(self):\n",
        "    print('Dog has four legs.')\n",
        "    super().__init__('Dog')\n",
        "\n",
        "d1 = Dog()\n",
        "\n",
        "\n",
        "# However, you may also write name of that class (of which you want to call the constructor) in place of super keyword"
      ]
    },
    {
      "cell_type": "markdown",
      "metadata": {
        "id": "UdUUm00FAsMo"
      },
      "source": [
        "# Encapsulation"
      ]
    },
    {
      "cell_type": "markdown",
      "metadata": {
        "id": "HvdFRCQtAsMo"
      },
      "source": [
        "public:\n",
        "All members in a Python class are public by default\n",
        "\n",
        "\n",
        "protected:\n",
        "Use single underscore \"_\" before name of members(methods and variables) to make them protected\n",
        "\n",
        "\n",
        "private:\n",
        "Use double underscore \"__\" before name of members(methods and variables) to make them private\n",
        "\n"
      ]
    },
    {
      "cell_type": "code",
      "execution_count": null,
      "metadata": {
        "id": "RdVD4H7DAsMo",
        "outputId": "c49357df-683e-4b50-a2ca-a8c68e577617"
      },
      "outputs": [
        {
          "name": "stdout",
          "output_type": "stream",
          "text": [
            "Steve\n",
            "XYZ School\n"
          ]
        }
      ],
      "source": [
        "#Public attributes\n",
        "\n",
        "class Student:\n",
        "    schoolName = 'XYZ School' # class attribute\n",
        "\n",
        "    def __init__(self, name, age):\n",
        "        self.name=name # instance attribute\n",
        "        self.age=age # instance attribute\n",
        "\n",
        "std = Student(\"Steve\", 25)\n",
        "\n",
        "print(std.name)\n",
        "print(std.schoolName)"
      ]
    },
    {
      "cell_type": "code",
      "execution_count": null,
      "metadata": {
        "id": "0vj-rAGZAsMp",
        "outputId": "2b688269-db21-44ef-b5a6-28bffcd184ab"
      },
      "outputs": [
        {
          "name": "stdout",
          "output_type": "stream",
          "text": [
            "Calling protected member of base class: \n",
            "2\n"
          ]
        },
        {
          "ename": "AttributeError",
          "evalue": "'Base' object has no attribute 'a'",
          "output_type": "error",
          "traceback": [
            "\u001b[1;31m---------------------------------------------------------------------------\u001b[0m",
            "\u001b[1;31mAttributeError\u001b[0m                            Traceback (most recent call last)",
            "\u001b[1;32m<ipython-input-18-fd9f3a7fa3f5>\u001b[0m in \u001b[0;36m<module>\u001b[1;34m\u001b[0m\n\u001b[0;32m     29\u001b[0m \u001b[1;31m# Outside class will  result in\u001b[0m\u001b[1;33m\u001b[0m\u001b[1;33m\u001b[0m\u001b[1;33m\u001b[0m\u001b[0m\n\u001b[0;32m     30\u001b[0m \u001b[1;31m# AttributeError\u001b[0m\u001b[1;33m\u001b[0m\u001b[1;33m\u001b[0m\u001b[1;33m\u001b[0m\u001b[0m\n\u001b[1;32m---> 31\u001b[1;33m \u001b[0mprint\u001b[0m\u001b[1;33m(\u001b[0m\u001b[0mobj2\u001b[0m\u001b[1;33m.\u001b[0m\u001b[0ma\u001b[0m\u001b[1;33m)\u001b[0m\u001b[1;33m\u001b[0m\u001b[1;33m\u001b[0m\u001b[0m\n\u001b[0m",
            "\u001b[1;31mAttributeError\u001b[0m: 'Base' object has no attribute 'a'"
          ]
        }
      ],
      "source": [
        "# Protected attributes\n",
        "\n",
        "# Python program to\n",
        "# demonstrate protected members\n",
        "\n",
        "\n",
        "# Creating a base class\n",
        "class Base:\n",
        "    def __init__(self):\n",
        "\n",
        "        # Protected member\n",
        "        self._a = 2\n",
        "\n",
        "# Creating a derived class\n",
        "class Derived(Base):\n",
        "    def __init__(self):\n",
        "\n",
        "        # Calling constructor of\n",
        "        # Base class\n",
        "        Base.__init__(self)\n",
        "        print(\"Calling protected member of base class: \")\n",
        "        print(self._a)\n",
        "\n",
        "obj1 = Derived()\n",
        "\n",
        "obj2 = Base()\n",
        "\n",
        "# Calling protected member\n",
        "# Outside class will  result in\n",
        "# AttributeError\n",
        "print(obj2.a)"
      ]
    },
    {
      "cell_type": "code",
      "execution_count": null,
      "metadata": {
        "id": "9fOLRC3IAsMq",
        "outputId": "152b9ebc-321a-4f21-b3d8-5682b5aa8bfc"
      },
      "outputs": [
        {
          "name": "stdout",
          "output_type": "stream",
          "text": [
            "GeeksforGeeks\n"
          ]
        }
      ],
      "source": [
        "# Private attributes\n",
        "\n",
        "# Python program to\n",
        "# demonstrate private members.\n",
        "\n",
        "# Creating a Base class\n",
        "class Base:\n",
        "    def __init__(self):\n",
        "        self.a = \"GeeksforGeeks\"\n",
        "        self.__c = \"Hello\"\n",
        "\n",
        "# Creating a derived class\n",
        "class Derived(Base):\n",
        "    def __init__(self):\n",
        "\n",
        "        # Calling constructor of\n",
        "        # Base class\n",
        "        Base.__init__(self)\n",
        "        print(\"Calling private member of base class: \")\n",
        "        print(self.__c)\n",
        "\n",
        "# Driver code\n",
        "obj1 = Base()\n",
        "print(obj1.a)       #this command is accessing public data\n",
        "#print(obj1.c)      this command will raise an error because c is private data of parent\n",
        "#obj2 = Derived()   this command will also raise error as derived class is trying to print private data of parent\n"
      ]
    },
    {
      "cell_type": "code",
      "execution_count": null,
      "metadata": {
        "id": "RKmGwEMWAsMq",
        "outputId": "e829cffd-d1ef-4189-88a0-0fc7390a44d6"
      },
      "outputs": [
        {
          "name": "stdout",
          "output_type": "stream",
          "text": [
            "Dev\n",
            "30\n",
            "35\n"
          ]
        }
      ],
      "source": [
        "# How to change values of private members\n",
        "\n",
        "# If you want to access and change the private variables,\n",
        "# then accessor (getter) methods and mutators(setter methods) should be used, as they are part of Class.\n",
        "\n",
        "class Person:\n",
        "    def __init__(self, name, age=0):\n",
        "        self.name = name\n",
        "        self.__age = age\n",
        "\n",
        "    def display(self):\n",
        "        print(self.name)\n",
        "        print(self.__age)\n",
        "\n",
        "    def getAge(self):\n",
        "        print(self.__age)\n",
        "\n",
        "    def setAge(self, age):\n",
        "        self.__age = age\n",
        "\n",
        "person = Person('Dev', 30)\n",
        "#accessing using class method\n",
        "person.display()\n",
        "#changing age using setter\n",
        "person.setAge(35)\n",
        "person.getAge()"
      ]
    },
    {
      "cell_type": "markdown",
      "metadata": {
        "id": "2I-127nDAsMs"
      },
      "source": [
        "## Abstraction\n",
        "\n",
        "By default, Python does not provide abstract classes. Python comes with a module that provides the base for defining Abstract Base classes(ABC) and that module name is ABC. ABC works by decorating methods of the base class as abstract and then registering concrete classes as implementations of the abstract base. A method becomes abstract when decorated with the keyword @abstractmethod. For Example –"
      ]
    },
    {
      "cell_type": "code",
      "execution_count": null,
      "metadata": {
        "id": "kWCpCYm6AsMu",
        "outputId": "29ae8d8d-b7f1-4012-b776-3b20ee4e6192"
      },
      "outputs": [
        {
          "name": "stdout",
          "output_type": "stream",
          "text": [
            "I have 3 sides\n",
            "I have 4 sides\n",
            "I have 5 sides\n",
            "I have 6 sides\n"
          ]
        }
      ],
      "source": [
        "# Python program showing\n",
        "# abstract base class work\n",
        "\n",
        "from abc import ABC, abstractmethod\n",
        "\n",
        "class Polygon(ABC):\n",
        "\n",
        "    @abstractmethod\n",
        "    def noofsides(self):\n",
        "        pass\n",
        "\n",
        "class Triangle(Polygon):\n",
        "\n",
        "    # overriding abstract method\n",
        "    def noofsides(self):\n",
        "        print(\"I have 3 sides\")\n",
        "\n",
        "class Pentagon(Polygon):\n",
        "\n",
        "    # overriding abstract method\n",
        "    def noofsides(self):\n",
        "        print(\"I have 5 sides\")\n",
        "\n",
        "class Hexagon(Polygon):\n",
        "\n",
        "    # overriding abstract method\n",
        "    def noofsides(self):\n",
        "        print(\"I have 6 sides\")\n",
        "\n",
        "class Quadrilateral(Polygon):\n",
        "\n",
        "    # overriding abstract method\n",
        "    def noofsides(self):\n",
        "        print(\"I have 4 sides\")\n",
        "\n",
        "# Driver code\n",
        "R = Triangle()\n",
        "R.noofsides()\n",
        "\n",
        "K = Quadrilateral()\n",
        "K.noofsides()\n",
        "\n",
        "R = Pentagon()\n",
        "R.noofsides()\n",
        "\n",
        "K = Hexagon()\n",
        "K.noofsides()"
      ]
    },
    {
      "cell_type": "code",
      "execution_count": null,
      "metadata": {
        "id": "pyICKLrEAsMw",
        "outputId": "edb75785-003d-4cf6-c501-390da693bb6c"
      },
      "outputs": [
        {
          "name": "stdout",
          "output_type": "stream",
          "text": [
            "I can walk and run\n",
            "I can crawl\n",
            "I can bark\n",
            "I can roar\n"
          ]
        }
      ],
      "source": [
        "# Python program showing\n",
        "# abstract base class work\n",
        "\n",
        "from abc import ABC, abstractmethod\n",
        "class Animal(ABC):\n",
        "\n",
        "    def move(self):\n",
        "        pass\n",
        "\n",
        "class Human(Animal):\n",
        "\n",
        "    def move(self):\n",
        "        print(\"I can walk and run\")\n",
        "\n",
        "class Snake(Animal):\n",
        "\n",
        "    def move(self):\n",
        "        print(\"I can crawl\")\n",
        "\n",
        "class Dog(Animal):\n",
        "\n",
        "    def move(self):\n",
        "        print(\"I can bark\")\n",
        "\n",
        "class Lion(Animal):\n",
        "\n",
        "    def move(self):\n",
        "        print(\"I can roar\")\n",
        "\n",
        "# Driver code\n",
        "R = Human()\n",
        "R.move()\n",
        "\n",
        "K = Snake()\n",
        "K.move()\n",
        "\n",
        "R = Dog()\n",
        "R.move()\n",
        "\n",
        "K = Lion()\n",
        "K.move()"
      ]
    },
    {
      "cell_type": "markdown",
      "metadata": {
        "id": "ZvWln-92AsMw"
      },
      "source": [
        "### Concrete Methods in Abstract Base Classes :\n",
        "Concrete classes contain only concrete (normal)methods whereas abstract classes may contain both concrete methods and abstract methods. The concrete class provides an implementation of abstract methods, the abstract base class can also provide an implementation by invoking the methods via super()."
      ]
    },
    {
      "cell_type": "code",
      "execution_count": null,
      "metadata": {
        "id": "mo5eKM7GAsMx",
        "outputId": "2adfd253-47e7-4d4b-a919-94ddb5ef80a8"
      },
      "outputs": [
        {
          "name": "stdout",
          "output_type": "stream",
          "text": [
            "Abstract Base Class\n",
            "subclass \n"
          ]
        }
      ],
      "source": [
        "# Python program invoking a\n",
        "# method using super()\n",
        "\n",
        "import abc\n",
        "from abc import ABC, abstractmethod\n",
        "\n",
        "class R(ABC):\n",
        "    def rk(self):\n",
        "        print(\"Abstract Base Class\")\n",
        "\n",
        "class K(R):\n",
        "    def rk(self):\n",
        "        super().rk()\n",
        "        print(\"subclass \")\n",
        "\n",
        "# Driver code\n",
        "r = K()\n",
        "r.rk()"
      ]
    },
    {
      "cell_type": "markdown",
      "metadata": {
        "id": "GAWtYabWAsMx"
      },
      "source": [
        "Abstract Class Instantiation :\n",
        "\n",
        "Abstract classes are incomplete because they have methods that have nobody. If python allows creating an object for abstract classes then using that object if anyone calls the abstract method, but there is no actual implementation to invoke. So we use an abstract class as a template and according to the need, we extend it and build on it before we can use it. Due to the fact, an abstract class is not a concrete class, it cannot be instantiated. When we create an object for the abstract class it raises an error."
      ]
    },
    {
      "cell_type": "code",
      "execution_count": null,
      "metadata": {
        "id": "uZPK5FNaAsMy",
        "outputId": "31ebc745-28b0-4241-8234-c8f6b02d14d0"
      },
      "outputs": [
        {
          "ename": "TypeError",
          "evalue": "Can't instantiate abstract class Animal with abstract methods move",
          "output_type": "error",
          "traceback": [
            "\u001b[1;31m---------------------------------------------------------------------------\u001b[0m",
            "\u001b[1;31mTypeError\u001b[0m                                 Traceback (most recent call last)",
            "\u001b[1;32m<ipython-input-32-f290455e516f>\u001b[0m in \u001b[0;36m<module>\u001b[1;34m\u001b[0m\n\u001b[0;32m     24\u001b[0m         \u001b[0mprint\u001b[0m\u001b[1;33m(\u001b[0m\u001b[1;34m\"I can roar\"\u001b[0m\u001b[1;33m)\u001b[0m\u001b[1;33m\u001b[0m\u001b[1;33m\u001b[0m\u001b[0m\n\u001b[0;32m     25\u001b[0m \u001b[1;33m\u001b[0m\u001b[0m\n\u001b[1;32m---> 26\u001b[1;33m \u001b[0mc\u001b[0m\u001b[1;33m=\u001b[0m\u001b[0mAnimal\u001b[0m\u001b[1;33m(\u001b[0m\u001b[1;33m)\u001b[0m\u001b[1;33m\u001b[0m\u001b[1;33m\u001b[0m\u001b[0m\n\u001b[0m",
            "\u001b[1;31mTypeError\u001b[0m: Can't instantiate abstract class Animal with abstract methods move"
          ]
        }
      ],
      "source": [
        "# Python program showing\n",
        "# abstract class cannot\n",
        "# be an instantiation\n",
        "from abc import ABC,abstractmethod\n",
        "\n",
        "class Animal(ABC):\n",
        "    @abstractmethod\n",
        "    def move(self):\n",
        "        pass\n",
        "class Human(Animal):\n",
        "    def move(self):\n",
        "        print(\"I can walk and run\")\n",
        "\n",
        "class Snake(Animal):\n",
        "    def move(self):\n",
        "        print(\"I can crawl\")\n",
        "\n",
        "class Dog(Animal):\n",
        "    def move(self):\n",
        "        print(\"I can bark\")\n",
        "\n",
        "class Lion(Animal):\n",
        "    def move(self):\n",
        "        print(\"I can roar\")\n",
        "\n",
        "c=Animal()"
      ]
    },
    {
      "cell_type": "markdown",
      "metadata": {
        "id": "ds4c52h5AsMy"
      },
      "source": [
        "# Polymorphism"
      ]
    },
    {
      "cell_type": "markdown",
      "metadata": {
        "id": "HAmDXH7mAsMy"
      },
      "source": [
        "Polymorphism means having many or different forms. In the programming world, Polymorphism refers to the ability of the function with the same name to carry different functionality altogether. It creates a structure that can use many forms of objects."
      ]
    },
    {
      "cell_type": "markdown",
      "metadata": {
        "id": "2O99wVm1AsMz"
      },
      "source": [
        "### Method Overloadaing or Compile Time Polymorphism\n",
        "Unlike many other popular object-oriented programming languages such as Java, Python doesn’t support compile-time polymorphism or method overloading. If a class or Python script has multiple methods with the same name, the method defined in the last will override the earlier one."
      ]
    },
    {
      "cell_type": "code",
      "execution_count": null,
      "metadata": {
        "id": "P3aQcx1FAsMz",
        "outputId": "29f2974b-db57-4956-fffe-3958555c882f"
      },
      "outputs": [
        {
          "name": "stdout",
          "output_type": "stream",
          "text": [
            "100\n"
          ]
        }
      ],
      "source": [
        "# method overlaoding example\n",
        "\n",
        "def product(a, b):\n",
        "    p = a * b\n",
        "    print(p)\n",
        "\n",
        "# Second product method\n",
        "# Takes three argument and print their\n",
        "# product\n",
        "def product(a, b, c):\n",
        "    p = a * b*c\n",
        "    print(p)\n",
        "\n",
        "# Uncommenting the below line shows an error\n",
        "## product(4, 5)\n",
        "\n",
        "# This line will call the second product method\n",
        "product(4, 5, 5)"
      ]
    },
    {
      "cell_type": "markdown",
      "metadata": {
        "id": "duK0CkJAAsMz"
      },
      "source": [
        "### Polymorphism with classes and objects"
      ]
    },
    {
      "cell_type": "code",
      "execution_count": null,
      "metadata": {
        "id": "Hhz_-g3jAsM0",
        "outputId": "a1ab4ff0-007a-4a40-d468-957b8f033c20"
      },
      "outputs": [
        {
          "name": "stdout",
          "output_type": "stream",
          "text": [
            "This function determines the age of Rabbit.\n",
            "This function determines the color of Rabbit.\n",
            "This function determines the age of Horse.\n",
            "This function determines the color of Horse.\n"
          ]
        }
      ],
      "source": [
        "# Example: POLYMORPHISM WITH CLASSES AND OBJECTS\n",
        "\n",
        "class Rabbit():\n",
        "    def age(self):\n",
        "        print(\"This function determines the age of Rabbit.\")\n",
        "\n",
        "    def color(self):\n",
        "        print(\"This function determines the color of Rabbit.\")\n",
        "\n",
        "class Horse():\n",
        "    def age(self):\n",
        "        print(\"This function determines the age of Horse.\")\n",
        "\n",
        "    def color(self):\n",
        "        print(\"This function determines the color of Horse.\")\n",
        "\n",
        "obj1 = Rabbit()\n",
        "obj2 = Horse()\n",
        "for a in (obj1, obj2): # creating a loop to iterate through the obj1, obj2\n",
        "    a.age()\n",
        "    a.color()"
      ]
    },
    {
      "cell_type": "markdown",
      "metadata": {
        "id": "cKL1fQsgAsM0"
      },
      "source": [
        "### Method Overriding or Polymorphism with inheritance\n",
        "We will be defining functions in the derived class that has the same name as the functions in the base class. Here, we re-implement the functions in the derived class. The phenomenon of re-implementing a function in the derived class is known as Method Overriding."
      ]
    },
    {
      "cell_type": "code",
      "execution_count": null,
      "metadata": {
        "scrolled": true,
        "id": "Ixz9qHGuAsM1",
        "outputId": "76ba1c30-3879-418d-d7ae-4d78239aa372"
      },
      "outputs": [
        {
          "name": "stdout",
          "output_type": "stream",
          "text": [
            "Various types of animals\n",
            "Age of the animal.\n",
            "Various types of animals\n",
            "Age of rabbit.\n",
            "Various types of animals\n",
            "Age of horse.\n"
          ]
        }
      ],
      "source": [
        "class Animal:\n",
        "  def types(self):\n",
        "    print(\"Various types of animals\")\n",
        "\n",
        "  def age(self):\n",
        "    print(\"Age of the animal.\")\n",
        "\n",
        "class Rabbit(Animal):\n",
        "  def age(self):\n",
        "    print(\"Age of rabbit.\")\n",
        "\n",
        "class Horse(Animal):\n",
        "  def age(self):\n",
        "    print(\"Age of horse.\")\n",
        "\n",
        "obj_animal = Animal()\n",
        "obj_rabbit = Rabbit()\n",
        "obj_horse = Horse()\n",
        "\n",
        "obj_animal.types()\n",
        "obj_animal.age()\n",
        "\n",
        "obj_rabbit.types()\n",
        "obj_rabbit.age()\n",
        "\n",
        "obj_horse.types()\n",
        "obj_horse.age()"
      ]
    },
    {
      "cell_type": "markdown",
      "metadata": {
        "id": "MWKoJOoSAsM1"
      },
      "source": [
        "# TASKS"
      ]
    },
    {
      "cell_type": "markdown",
      "metadata": {
        "id": "u6zOmyJXAsM1"
      },
      "source": [
        "<b>Q1)</b> Create a Bus child class that inherits from the Vehicle class. The default fare charge of any vehicle is seating capacity * 100. If Vehicle is Bus instance, we need to add an extra 10% on full fare as a maintenance charge. So total fare for bus instance will become the final amount = total fare + 10% of the total fare.\n"
      ]
    },
    {
      "cell_type": "markdown",
      "metadata": {
        "id": "e78eRywXAsM2"
      },
      "source": [
        "<b>Q2)</b>\n",
        "Create abstract base class \"shape\" that has abstract method \"area\". Inherit rectangle, triangle and square class from shape class and provide implementation of \"area\" method for each derived class. Finally print area of rectangle, triangle and square."
      ]
    },
    {
      "cell_type": "markdown",
      "metadata": {
        "id": "IjORQmC7AsM2"
      },
      "source": [
        "<b>Q3)</b> Write a program in which a class named Account has private member\n",
        "variables named account_no ,account_bal ,security_code. Use a public\n",
        "function to initialize the variables and print all data."
      ]
    },
    {
      "cell_type": "markdown",
      "source": [
        "<b>Q4)</b> Start with creating rectangle class with two attributes length and width. Create the square class which is derived from rectangle and inherits the length and width parameters; also define an area method in the square. Create a cube class which is derived from rectangle and has the attributes of length, width and height of which length and width have to be from rectangle class and height needs to be initiated. Create the volume function in the cube. Calculate the area of the square with side of 3 and volume of cube with length, width and height of 3. (Hint super keyword)"
      ],
      "metadata": {
        "id": "PeEVrzRmBg4X"
      }
    },
    {
      "cell_type": "markdown",
      "source": [
        "<b>Q5)</b> Challege Question : A university is deciding to upgrade its system. In order to upgrade, you need to implement the following scenario:\n",
        "\n",
        "Note the following:\n",
        "\n",
        "    •\tThe class student has a function that displays information about the student i-e id and name\n",
        "\n",
        "    •\tClass marks is derived from class student and has a function that displays all the marks obtained in the courses by the students. i-e marks_algo, marks_dataScience, marks_calculus\n",
        "\n",
        "    •\tClass result is derived from class marks. This class has a function that calculates the total marks and then calculates the average marks. It then displays both the total and the average marks.\n",
        "\n",
        "\n",
        "In the main function you are required to do the following:\n",
        "\n",
        "    •\tCreate an object of the result class.\n",
        "\n",
        "    •\tThen display the student details, the marks obtained in each courses and the total and the average marks.\n",
        "\n"
      ],
      "metadata": {
        "id": "o-ZKH5V7qNOk"
      }
    },
    {
      "cell_type": "code",
      "source": [],
      "metadata": {
        "id": "OQiAL7b7qONT"
      },
      "execution_count": null,
      "outputs": []
    }
  ],
  "metadata": {
    "kernelspec": {
      "display_name": "Python 3",
      "language": "python",
      "name": "python3"
    },
    "language_info": {
      "codemirror_mode": {
        "name": "ipython",
        "version": 3
      },
      "file_extension": ".py",
      "mimetype": "text/x-python",
      "name": "python",
      "nbconvert_exporter": "python",
      "pygments_lexer": "ipython3",
      "version": "3.8.5"
    },
    "colab": {
      "provenance": [],
      "include_colab_link": true
    }
  },
  "nbformat": 4,
  "nbformat_minor": 0
}